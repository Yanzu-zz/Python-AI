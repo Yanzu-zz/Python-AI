{
 "cells": [
  {
   "cell_type": "raw",
   "id": "4e7c9b4d",
   "metadata": {},
   "source": [
    "MLP实现图像多分类\n",
    "\n",
    "任务：基干mnist数据集，建立mlp模型，实现0-9数字的十分类\n",
    "\n",
    "> 实现mnist数据载入，可初化图形数字完成数据预处理: 图像数据维度转换与归一、输出结果格式转换\n",
    "> 计算模型在预测数据集的准确率\n",
    "> 模型结构:两层隐藏层，每层有392个神经元"
   ]
  },
  {
   "cell_type": "code",
   "execution_count": 1,
   "id": "81f61af6",
   "metadata": {},
   "outputs": [
    {
     "name": "stdout",
     "output_type": "stream",
     "text": [
      "Downloading data from https://storage.googleapis.com/tensorflow/tf-keras-datasets/mnist.npz\n",
      "11490434/11490434 [==============================] - 5s 0us/step\n"
     ]
    }
   ],
   "source": [
    "# load the mnist data\n",
    "from keras.datasets import mnist\n",
    "(X_train, y_train), (X_test, y_test) = mnist.load_data()"
   ]
  },
  {
   "cell_type": "code",
   "execution_count": 2,
   "id": "4d93c337",
   "metadata": {},
   "outputs": [
    {
     "name": "stdout",
     "output_type": "stream",
     "text": [
      "<class 'numpy.ndarray'> (60000, 28, 28)\n"
     ]
    }
   ],
   "source": [
    "print(type(X_train), X_train.shape)"
   ]
  },
  {
   "cell_type": "code",
   "execution_count": 7,
   "id": "cb77cfef",
   "metadata": {},
   "outputs": [
    {
     "data": {
      "text/plain": [
       "Text(0.5, 1.0, '5')"
      ]
     },
     "execution_count": 7,
     "metadata": {},
     "output_type": "execute_result"
    },
    {
     "data": {
      "image/png": "[encoded data removed]",
      "text/plain": [
       "<Figure size 640x480 with 1 Axes>"
      ]
     },
     "metadata": {},
     "output_type": "display_data"
    }
   ],
   "source": [
    "# visualize the data\n",
    "img1 = X_train[0]\n",
    "\n",
    "%matplotlib inline\n",
    "from matplotlib import pyplot as plt\n",
    "fig1 = plt.figure()\n",
    "# 注意不是 imgshow()\n",
    "plt.imshow(img1) # 28*28 = 784个数据点\n",
    "plt.title(y_train[0])\n",
    "plt.show()"
   ]
  },
  {
   "cell_type": "code",
   "execution_count": 13,
   "id": "7da52206",
   "metadata": {},
   "outputs": [],
   "source": [
    "# format the input data\n",
    "feature_size = img1.shape[0] * img1.shape[1]\n",
    "\n",
    "X_train_format = X_train.reshape(X_train.shape[0], feature_size)\n",
    "X_test_format = X_test.reshape(X_test.shape[0], feature_size)"
   ]
  },
  {
   "cell_type": "code",
   "execution_count": 16,
   "id": "ce0d612b",
   "metadata": {},
   "outputs": [],
   "source": [
    "# normalize the input data\n",
    "X_train_normal = X_train_format / 255\n",
    "X_test_normal = X_test_format / 255"
   ]
  },
  {
   "cell_type": "code",
   "execution_count": 21,
   "id": "2af640b3",
   "metadata": {},
   "outputs": [],
   "source": [
    "# format the output data(labels)\n",
    "from keras.utils import to_categorical\n",
    "y_train_format = to_categorical(y_train)\n",
    "y_test_format = to_categorical(y_test)"
   ]
  },
  {
   "cell_type": "code",
   "execution_count": 18,
   "id": "175597ac",
   "metadata": {},
   "outputs": [
    {
     "name": "stdout",
     "output_type": "stream",
     "text": [
      "Model: \"sequential\"\n",
      "_________________________________________________________________\n",
      " Layer (type)                Output Shape              Param #   \n",
      "=================================================================\n",
      " dense (Dense)               (None, 392)               307720    \n",
      "                                                                 \n",
      " dense_1 (Dense)             (None, 392)               154056    \n",
      "                                                                 \n",
      " dense_2 (Dense)             (None, 10)                3930      \n",
      "                                                                 \n",
      "=================================================================\n",
      "Total params: 465,706\n",
      "Trainable params: 465,706\n",
      "Non-trainable params: 0\n",
      "_________________________________________________________________\n"
     ]
    }
   ],
   "source": [
    "# set up the model\n",
    "from keras.models import Sequential\n",
    "from keras.layers import Dense, Activation\n",
    "\n",
    "mlp = Sequential()\n",
    "# frature_size 个输入数据，392个隐藏神经元\n",
    "mlp.add(Dense(units=392, activation='sigmoid', input_dim=feature_size))\n",
    "# 下一层也是有 392个隐藏神经元\n",
    "mlp.add(Dense(units=392, activation='sigmoid'))\n",
    "# 输出层只有10个节点\n",
    "mlp.add(Dense(units=10, activation='softmax'))\n",
    "mlp.summary()"
   ]
  },
  {
   "cell_type": "code",
   "execution_count": 19,
   "id": "313cdb26",
   "metadata": {},
   "outputs": [],
   "source": [
    "# configure the model\n",
    "# 多分类就不是 binary 了，是 categorical_crossentropy\n",
    "mlp.compile(loss='categorical_crossentropy', optimizer='adam')"
   ]
  },
  {
   "cell_type": "code",
   "execution_count": 22,
   "id": "197c34cb",
   "metadata": {},
   "outputs": [
    {
     "name": "stdout",
     "output_type": "stream",
     "text": [
      "Epoch 1/10\n",
      "1875/1875 [==============================] - 11s 6ms/step - loss: 0.3412\n",
      "Epoch 2/10\n",
      "1875/1875 [==============================] - 11s 6ms/step - loss: 0.1441\n",
      "Epoch 3/10\n",
      "1875/1875 [==============================] - 10s 6ms/step - loss: 0.0927\n",
      "Epoch 4/10\n",
      "1875/1875 [==============================] - 10s 5ms/step - loss: 0.0654\n",
      "Epoch 5/10\n",
      "1875/1875 [==============================] - 10s 6ms/step - loss: 0.0479\n",
      "Epoch 6/10\n",
      "1875/1875 [==============================] - 12s 6ms/step - loss: 0.0351\n",
      "Epoch 7/10\n",
      "1875/1875 [==============================] - 12s 7ms/step - loss: 0.0272\n",
      "Epoch 8/10\n",
      "1875/1875 [==============================] - 12s 7ms/step - loss: 0.0205\n",
      "Epoch 9/10\n",
      "1875/1875 [==============================] - 13s 7ms/step - loss: 0.0161\n",
      "Epoch 10/10\n",
      "1875/1875 [==============================] - 15s 8ms/step - loss: 0.0131\n"
     ]
    },
    {
     "data": {
      "text/plain": [
       "<keras.callbacks.History at 0x35f24310>"
      ]
     },
     "execution_count": 22,
     "metadata": {},
     "output_type": "execute_result"
    }
   ],
   "source": [
    "# train the model\n",
    "mlp.fit(X_train_normal, y_train_format, epochs=10)"
   ]
  },
  {
   "cell_type": "code",
   "execution_count": 30,
   "id": "1ce4b0e0",
   "metadata": {},
   "outputs": [
    {
     "name": "stdout",
     "output_type": "stream",
     "text": [
      "1875/1875 [==============================] - 3s 2ms/step\n",
      "[5 0 4 ... 5 6 8]\n"
     ]
    }
   ],
   "source": [
    "# evaluate the model\n",
    "import numpy as np\n",
    "# 多分类用 np.argmax\n",
    "y_train_predict = np.argmax(mlp.predict(X_train_normal), axis=-1)\n",
    "print(y_train_predict)"
   ]
  },
  {
   "cell_type": "code",
   "execution_count": 29,
   "id": "40f63c89",
   "metadata": {},
   "outputs": [
    {
     "name": "stdout",
     "output_type": "stream",
     "text": [
      "0.9963\n"
     ]
    }
   ],
   "source": [
    "from sklearn.metrics import accuracy_score\n",
    "accuracy_train = accuracy_score(y_train, y_train_predict)\n",
    "print(accuracy_train)"
   ]
  },
  {
   "cell_type": "code",
   "execution_count": 31,
   "id": "96e6ee38",
   "metadata": {},
   "outputs": [
    {
     "name": "stdout",
     "output_type": "stream",
     "text": [
      "313/313 [==============================] - 1s 2ms/step\n",
      "0.9786\n"
     ]
    }
   ],
   "source": [
    "y_test_predict = np.argmax(mlp.predict(X_test_normal), axis=-1)\n",
    "accuracy_test = accuracy_score(y_test, y_test_predict)\n",
    "print(accuracy_test)"
   ]
  },
  {
   "cell_type": "code",
   "execution_count": 34,
   "id": "237f37f1",
   "metadata": {},
   "outputs": [
    {
     "data": {
      "image/png": "[encoded data removed]",
      "text/plain": [
       "<Figure size 640x480 with 1 Axes>"
      ]
     },
     "metadata": {},
     "output_type": "display_data"
    }
   ],
   "source": [
    "# 随机查看是否正确\n",
    "img2 = X_test[100]\n",
    "fig2 = plt.figure()\n",
    "plt.imshow(img2)\n",
    "plt.title(y_test_predict[100])\n",
    "plt.show()"
   ]
  },
  {
   "cell_type": "code",
   "execution_count": null,
   "id": "d6cb6c11",
   "metadata": {},
   "outputs": [],
   "source": []
  }
 ],
 "metadata": {
  "kernelspec": {
   "display_name": "Python 3 (ipykernel)",
   "language": "python",
   "name": "python3"
  },
  "language_info": {
   "codemirror_mode": {
    "name": "ipython",
    "version": 3
   },
   "file_extension": ".py",
   "mimetype": "text/x-python",
   "name": "python",
   "nbconvert_exporter": "python",
   "pygments_lexer": "ipython3",
   "version": "3.11.3"
  }
 },
 "nbformat": 4,
 "nbformat_minor": 5
}
