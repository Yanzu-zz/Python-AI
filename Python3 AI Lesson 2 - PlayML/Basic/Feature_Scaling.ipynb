{
 "cells": [
  {
   "cell_type": "code",
   "execution_count": 5,
   "id": "010702da",
   "metadata": {},
   "outputs": [],
   "source": [
    "# 数据归一化处理练习\n",
    "import numpy as np\n",
    "import matplotlib.pyplot as plt"
   ]
  },
  {
   "cell_type": "raw",
   "id": "8bb44799",
   "metadata": {},
   "source": [
    "# 最值归一化 Normalization"
   ]
  },
  {
   "cell_type": "code",
   "execution_count": 6,
   "id": "946c023d",
   "metadata": {},
   "outputs": [],
   "source": [
    "x = np.random.randint(0, 100, size=100)"
   ]
  },
  {
   "cell_type": "code",
   "execution_count": 7,
   "id": "01ed7729",
   "metadata": {},
   "outputs": [
    {
     "data": {
      "text/plain": [
       "array([0.38383838, 0.43434343, 0.62626263, 0.5959596 , 0.2020202 ,\n",
       "       0.23232323, 0.14141414, 0.58585859, 0.06060606, 0.        ,\n",
       "       0.61616162, 0.06060606, 0.78787879, 0.44444444, 0.32323232,\n",
       "       0.86868687, 0.71717172, 0.76767677, 0.04040404, 0.08080808,\n",
       "       0.23232323, 0.51515152, 0.85858586, 0.47474747, 0.77777778,\n",
       "       0.6969697 , 0.13131313, 0.44444444, 0.61616162, 0.70707071,\n",
       "       0.55555556, 0.87878788, 0.12121212, 0.41414141, 0.60606061,\n",
       "       0.05050505, 0.01010101, 0.2020202 , 0.78787879, 0.83838384,\n",
       "       0.68686869, 0.68686869, 0.73737374, 0.13131313, 0.84848485,\n",
       "       0.64646465, 0.47474747, 1.        , 0.32323232, 0.87878788,\n",
       "       0.06060606, 0.67676768, 0.02020202, 0.07070707, 0.24242424,\n",
       "       0.44444444, 0.49494949, 0.67676768, 0.83838384, 0.82828283,\n",
       "       0.46464646, 0.36363636, 0.58585859, 0.41414141, 0.81818182,\n",
       "       0.        , 0.95959596, 0.96969697, 0.31313131, 0.38383838,\n",
       "       0.12121212, 0.52525253, 0.25252525, 0.95959596, 0.26262626,\n",
       "       0.64646465, 0.19191919, 0.48484848, 0.04040404, 0.12121212,\n",
       "       0.54545455, 0.21212121, 0.66666667, 0.19191919, 0.28282828,\n",
       "       0.55555556, 0.61616162, 0.94949495, 0.88888889, 0.82828283,\n",
       "       0.86868687, 0.6969697 , 0.4040404 , 0.6969697 , 0.34343434,\n",
       "       0.88888889, 0.75757576, 0.82828283, 0.04040404, 0.24242424])"
      ]
     },
     "execution_count": 7,
     "metadata": {},
     "output_type": "execute_result"
    }
   ],
   "source": [
    "(x - np.min(x)) / (np.max(x) - np.min(x))"
   ]
  },
  {
   "cell_type": "code",
   "execution_count": 8,
   "id": "6d1e8176",
   "metadata": {},
   "outputs": [
    {
     "data": {
      "text/plain": [
       "array([[80, 61],\n",
       "       [51, 30],\n",
       "       [60,  9],\n",
       "       [47, 40],\n",
       "       [29,  5],\n",
       "       [43, 40],\n",
       "       [80, 40],\n",
       "       [45, 11],\n",
       "       [ 2, 53],\n",
       "       [70, 75],\n",
       "       [86, 91],\n",
       "       [17, 47],\n",
       "       [80, 30],\n",
       "       [32, 25],\n",
       "       [21, 77],\n",
       "       [95,  0],\n",
       "       [71, 14],\n",
       "       [98, 12],\n",
       "       [68, 36],\n",
       "       [28, 33],\n",
       "       [18, 28],\n",
       "       [94, 43],\n",
       "       [32, 35],\n",
       "       [33, 77],\n",
       "       [74, 77],\n",
       "       [31, 58],\n",
       "       [13, 26],\n",
       "       [17, 32],\n",
       "       [89, 58],\n",
       "       [44,  9],\n",
       "       [ 3, 55],\n",
       "       [ 0, 73],\n",
       "       [15, 82],\n",
       "       [19, 28],\n",
       "       [78, 84],\n",
       "       [40, 94],\n",
       "       [72, 79],\n",
       "       [ 4, 56],\n",
       "       [15, 30],\n",
       "       [40, 28],\n",
       "       [32, 42],\n",
       "       [ 8, 12],\n",
       "       [44, 12],\n",
       "       [28, 71],\n",
       "       [61, 59],\n",
       "       [36, 31],\n",
       "       [24, 14],\n",
       "       [29,  0],\n",
       "       [26, 29],\n",
       "       [52, 98]])"
      ]
     },
     "execution_count": 8,
     "metadata": {},
     "output_type": "execute_result"
    }
   ],
   "source": [
    "# 生成50x2 的矩阵\n",
    "x = np.random.randint(0, 100, (50, 2))\n",
    "x"
   ]
  },
  {
   "cell_type": "code",
   "execution_count": 9,
   "id": "c65b8102",
   "metadata": {},
   "outputs": [
    {
     "data": {
      "text/plain": [
       "array([[80, 61],\n",
       "       [51, 30],\n",
       "       [60,  9],\n",
       "       [47, 40],\n",
       "       [29,  5],\n",
       "       [43, 40],\n",
       "       [80, 40],\n",
       "       [45, 11],\n",
       "       [ 2, 53],\n",
       "       [70, 75]])"
      ]
     },
     "execution_count": 9,
     "metadata": {},
     "output_type": "execute_result"
    }
   ],
   "source": [
    "x[:10, :]"
   ]
  },
  {
   "cell_type": "code",
   "execution_count": 13,
   "id": "86886f40",
   "metadata": {},
   "outputs": [],
   "source": [
    "x = np.array(x, dtype=float)"
   ]
  },
  {
   "cell_type": "code",
   "execution_count": 14,
   "id": "fc244c81",
   "metadata": {},
   "outputs": [
    {
     "data": {
      "text/plain": [
       "array([[80., 61.],\n",
       "       [51., 30.],\n",
       "       [60.,  9.],\n",
       "       [47., 40.],\n",
       "       [29.,  5.],\n",
       "       [43., 40.],\n",
       "       [80., 40.],\n",
       "       [45., 11.],\n",
       "       [ 2., 53.],\n",
       "       [70., 75.]])"
      ]
     },
     "execution_count": 14,
     "metadata": {},
     "output_type": "execute_result"
    }
   ],
   "source": [
    "x[:10, :]"
   ]
  },
  {
   "cell_type": "code",
   "execution_count": 16,
   "id": "6a597dc6",
   "metadata": {},
   "outputs": [],
   "source": [
    "# 对矩阵进行最值归一化\n",
    "x[:, 0] = (x[:, 0] - np.min(x[:, 0])) / (np.max(x[:, 0]) - np.min(x[:, 0]))\n",
    "x[:, 1] = (x[:, 1] - np.min(x[:, 1])) / (np.max(x[:, 1]) - np.min(x[:, 1]))"
   ]
  },
  {
   "cell_type": "code",
   "execution_count": 17,
   "id": "a474170d",
   "metadata": {},
   "outputs": [
    {
     "data": {
      "text/plain": [
       "array([[0.81632653, 0.62244898],\n",
       "       [0.52040816, 0.30612245],\n",
       "       [0.6122449 , 0.09183673],\n",
       "       [0.47959184, 0.40816327],\n",
       "       [0.29591837, 0.05102041],\n",
       "       [0.43877551, 0.40816327],\n",
       "       [0.81632653, 0.40816327],\n",
       "       [0.45918367, 0.1122449 ],\n",
       "       [0.02040816, 0.54081633],\n",
       "       [0.71428571, 0.76530612]])"
      ]
     },
     "execution_count": 17,
     "metadata": {},
     "output_type": "execute_result"
    }
   ],
   "source": [
    "x[:10, :]"
   ]
  },
  {
   "cell_type": "code",
   "execution_count": 18,
   "id": "464e6387",
   "metadata": {},
   "outputs": [
    {
     "data": {
      "image/png": "[encoded data removed]",
      "text/plain": [
       "<Figure size 640x480 with 1 Axes>"
      ]
     },
     "metadata": {},
     "output_type": "display_data"
    }
   ],
   "source": [
    "plt.scatter(x[:, 0], x[:, 1])\n",
    "plt.show()"
   ]
  },
  {
   "cell_type": "code",
   "execution_count": 21,
   "id": "5ced5bda",
   "metadata": {},
   "outputs": [
    {
     "name": "stdout",
     "output_type": "stream",
     "text": [
      "0.44367346938775504\n",
      "0.28087179091555564\n",
      "0.4385714285714286\n",
      "0.2722902541540711\n"
     ]
    }
   ],
   "source": [
    "print(np.mean(x[:, 0]))\n",
    "print(np.std(x[:, 0]))\n",
    "\n",
    "print(np.mean(x[:, 1]))\n",
    "print(np.std(x[:, 1]))"
   ]
  },
  {
   "cell_type": "raw",
   "id": "1be471bc",
   "metadata": {},
   "source": [
    "# 均值方差归一化 Standardization"
   ]
  },
  {
   "cell_type": "code",
   "execution_count": 24,
   "id": "1c6d539c",
   "metadata": {},
   "outputs": [],
   "source": [
    "x2 = np.random.randint(0, 100, (50, 2))\n",
    "x2 = np.array(x2, dtype=float)"
   ]
  },
  {
   "cell_type": "code",
   "execution_count": 27,
   "id": "8fa5d1db",
   "metadata": {},
   "outputs": [],
   "source": [
    "x2[:, 0] = (x2[:, 0] - np.mean(x2[:, 0])) / np.std(x2[:, 0])\n",
    "x2[:, 1] = (x2[:, 1] - np.mean(x2[:, 1])) / np.std(x2[:, 1])"
   ]
  },
  {
   "cell_type": "code",
   "execution_count": 28,
   "id": "4e5fe733",
   "metadata": {},
   "outputs": [
    {
     "data": {
      "image/png": "[encoded data removed]",
      "text/plain": [
       "<Figure size 640x480 with 1 Axes>"
      ]
     },
     "metadata": {},
     "output_type": "display_data"
    }
   ],
   "source": [
    "plt.scatter(x2[:, 0], x2[:, 1])\n",
    "plt.show()"
   ]
  },
  {
   "cell_type": "code",
   "execution_count": 31,
   "id": "c2ee80a6",
   "metadata": {},
   "outputs": [
    {
     "name": "stdout",
     "output_type": "stream",
     "text": [
      "-1.7763568394002505e-17 1.0\n",
      "-4.4408920985006264e-17 1.0\n"
     ]
    }
   ],
   "source": [
    "print(np.mean(x2[:, 0]), np.std(x2[:, 0]))\n",
    "print(np.mean(x2[:, 1]), np.std(x2[:, 1]))"
   ]
  },
  {
   "cell_type": "code",
   "execution_count": null,
   "id": "54815122",
   "metadata": {},
   "outputs": [],
   "source": []
  },
  {
   "cell_type": "code",
   "execution_count": null,
   "id": "9a56e2b2",
   "metadata": {},
   "outputs": [],
   "source": []
  },
  {
   "cell_type": "code",
   "execution_count": null,
   "id": "a09d607b",
   "metadata": {},
   "outputs": [],
   "source": []
  },
  {
   "cell_type": "code",
   "execution_count": null,
   "id": "28d45c69",
   "metadata": {},
   "outputs": [],
   "source": []
  }
 ],
 "metadata": {
  "kernelspec": {
   "display_name": "Python 3 (ipykernel)",
   "language": "python",
   "name": "python3"
  },
  "language_info": {
   "codemirror_mode": {
    "name": "ipython",
    "version": 3
   },
   "file_extension": ".py",
   "mimetype": "text/x-python",
   "name": "python",
   "nbconvert_exporter": "python",
   "pygments_lexer": "ipython3",
   "version": "3.11.3"
  }
 },
 "nbformat": 4,
 "nbformat_minor": 5
}
