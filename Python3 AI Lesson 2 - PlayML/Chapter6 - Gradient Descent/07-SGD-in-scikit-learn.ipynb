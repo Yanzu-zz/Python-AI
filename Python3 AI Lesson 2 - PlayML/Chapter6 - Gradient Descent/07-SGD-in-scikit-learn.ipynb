{
 "cells": [
  {
   "cell_type": "raw",
   "id": "ed7f39d3",
   "metadata": {},
   "source": [
    "使用我们自己的SGD"
   ]
  },
  {
   "cell_type": "code",
   "execution_count": 5,
   "id": "58b7c357",
   "metadata": {},
   "outputs": [],
   "source": [
    "import numpy as np\n",
    "import matplotlib.pyplot as plt"
   ]
  },
  {
   "cell_type": "code",
   "execution_count": 6,
   "id": "57af532a",
   "metadata": {},
   "outputs": [],
   "source": [
    "m = 1000000\n",
    "\n",
    "x = np.random.normal(size=m)\n",
    "X = x.reshape(-1, 1)\n",
    "y = 4. * x + 3 + np.random.normal(0, 3, size=m)"
   ]
  },
  {
   "cell_type": "code",
   "execution_count": 9,
   "id": "9ff24a2d",
   "metadata": {},
   "outputs": [],
   "source": [
    "import sys\n",
    "sys.path.insert(0, '../PlayML')\n",
    "\n",
    "from LinearRegression import LinearRegression\n",
    "lin_reg = LinearRegression()\n",
    "lin_reg.fit_sgd(X, y, n_iters=2)"
   ]
  },
  {
   "cell_type": "code",
   "execution_count": 12,
   "id": "54a6c6c4",
   "metadata": {},
   "outputs": [
    {
     "name": "stdout",
     "output_type": "stream",
     "text": [
      "[4.00526648] 3.00039315704046\n"
     ]
    }
   ],
   "source": [
    "print(lin_reg.coef_, lin_reg.interception_)"
   ]
  },
  {
   "cell_type": "raw",
   "id": "f043b82c",
   "metadata": {},
   "source": [
    "scikit-learn 中的 SGD"
   ]
  },
  {
   "cell_type": "code",
   "execution_count": 14,
   "id": "e1cb978d",
   "metadata": {},
   "outputs": [],
   "source": [
    "from sklearn.linear_model import SGDRegressor"
   ]
  }
 ],
 "metadata": {
  "kernelspec": {
   "display_name": "Python 3 (ipykernel)",
   "language": "python",
   "name": "python3"
  },
  "language_info": {
   "codemirror_mode": {
    "name": "ipython",
    "version": 3
   },
   "file_extension": ".py",
   "mimetype": "text/x-python",
   "name": "python",
   "nbconvert_exporter": "python",
   "pygments_lexer": "ipython3",
   "version": "3.11.3"
  }
 },
 "nbformat": 4,
 "nbformat_minor": 5
}
