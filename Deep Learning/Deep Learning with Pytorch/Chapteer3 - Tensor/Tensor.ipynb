{
 "cells": [
  {
   "cell_type": "code",
   "execution_count": 1,
   "id": "4fa8df7c",
   "metadata": {},
   "outputs": [],
   "source": [
    "import torch"
   ]
  },
  {
   "cell_type": "code",
   "execution_count": 2,
   "id": "322fabf2",
   "metadata": {},
   "outputs": [
    {
     "name": "stdout",
     "output_type": "stream",
     "text": [
      "tensor([1., 1., 1.])\n",
      "tensor(1.)\n",
      "1.0\n",
      "tensor([6.2000, 1.0000, 1.0000])\n"
     ]
    }
   ],
   "source": [
    "# a 可以改变的\n",
    "a = torch.ones(3)\n",
    "print(a)\n",
    "print(a[1])\n",
    "print(float(a[2]))\n",
    "\n",
    "a[0] = 6.2\n",
    "print(a)"
   ]
  },
  {
   "cell_type": "code",
   "execution_count": 3,
   "id": "54989e67",
   "metadata": {},
   "outputs": [
    {
     "data": {
      "text/plain": [
       "tensor([1.2000, 2.0000, 3.0000])"
      ]
     },
     "execution_count": 3,
     "metadata": {},
     "output_type": "execute_result"
    }
   ],
   "source": [
    "b = torch.tensor([1.2, 2.0, 3])\n",
    "b"
   ]
  },
  {
   "cell_type": "code",
   "execution_count": 4,
   "id": "beb1a874",
   "metadata": {},
   "outputs": [
    {
     "name": "stdout",
     "output_type": "stream",
     "text": [
      "tensor([[4., 1.],\n",
      "        [5., 3.],\n",
      "        [2., 1.]])\n",
      "torch.Size([3, 2])\n"
     ]
    }
   ],
   "source": [
    "points = torch.tensor([\n",
    "    [4.0, 1.0],\n",
    "    [5.0, 3.0],\n",
    "    [2.0, 1.0]\n",
    "])\n",
    "print(points)\n",
    "print(points.shape)"
   ]
  },
  {
   "cell_type": "code",
   "execution_count": 5,
   "id": "b4f5a2e9",
   "metadata": {},
   "outputs": [
    {
     "name": "stdout",
     "output_type": "stream",
     "text": [
      "tensor([[5., 3.],\n",
      "        [2., 1.]])\n",
      "tensor([[4., 1.],\n",
      "        [2., 1.]])\n"
     ]
    }
   ],
   "source": [
    "# 切片操作也一样\n",
    "print(points[1:])\n",
    "print(points[0::2])"
   ]
  },
  {
   "cell_type": "code",
   "execution_count": 6,
   "id": "d50ee692",
   "metadata": {},
   "outputs": [],
   "source": [
    "# 初始化 RGB 三通道张量数据\n",
    "img_t = torch.randn(3, 5, 5) # 维度 channels, rows, columns\n",
    "weights = torch.tensor([0.2126, 0.7152, 0.0722])"
   ]
  },
  {
   "cell_type": "code",
   "execution_count": 7,
   "id": "7adf71e6",
   "metadata": {},
   "outputs": [],
   "source": [
    "# 增加批量次数\n",
    "batch_t = torch.randn(2, 3, 5, 5) # 维度 batch, channels, rows, columns"
   ]
  },
  {
   "cell_type": "code",
   "execution_count": 8,
   "id": "6e1da705",
   "metadata": {},
   "outputs": [
    {
     "name": "stdout",
     "output_type": "stream",
     "text": [
      "torch.Size([5, 5])\n",
      "torch.Size([2, 5, 5])\n"
     ]
    }
   ],
   "source": [
    "# 求平均值之类的操作\n",
    "# 因为一个图片张量不一定只有 RGB 通道数据\n",
    "# 但 RGB 通道数据一定在最后三列，故我们用-3求\n",
    "img_gray_naive = img_t.mean(-3)\n",
    "batch_gray_naive = batch_t.mean(-3)\n",
    "print(img_gray_naive.shape)\n",
    "print(batch_gray_naive.shape)"
   ]
  },
  {
   "cell_type": "code",
   "execution_count": 9,
   "id": "65f96523",
   "metadata": {},
   "outputs": [
    {
     "name": "stdout",
     "output_type": "stream",
     "text": [
      "torch.Size([2, 3, 5, 5])\n",
      "torch.Size([2, 3, 5, 5])\n",
      "torch.Size([3, 1, 1])\n"
     ]
    }
   ],
   "source": [
    "unsqueezed_weights = weights.unsqueeze(-1).unsqueeze(-1)\n",
    "img_weights = (img_t * unsqueezed_weights)\n",
    "batch_weights = (batch_t * unsqueezed_weights)\n",
    "img_gray_weighted = img_weights.sum(-3)\n",
    "batch_gray_weighted = batch_weights.sum(-3)\n",
    "\n",
    "print(batch_weights.shape)\n",
    "print(batch_t.shape)\n",
    "print(unsqueezed_weights.shape)"
   ]
  },
  {
   "cell_type": "code",
   "execution_count": 11,
   "id": "e3792acb",
   "metadata": {},
   "outputs": [
    {
     "name": "stdout",
     "output_type": "stream",
     "text": [
      "tensor([0.2126, 0.7152, 0.0722], names=('channels',))\n"
     ]
    },
    {
     "name": "stderr",
     "output_type": "stream",
     "text": [
      "C:\\Users\\IAdmin\\AppData\\Local\\Temp\\ipykernel_10248\\237186190.py:1: UserWarning: Named tensors and all their associated APIs are an experimental feature and subject to change. Please do not use them for anything important until they are released as stable. (Triggered internally at ..\\c10/core/TensorImpl.h:1903.)\n",
      "  weights_named = torch.tensor([0.2126, 0.7152, 0.0722], names=[\"channels\"])\n"
     ]
    }
   ],
   "source": [
    "weights_named = torch.tensor([0.2126, 0.7152, 0.0722], names=[\"channels\"])\n",
    "print(weights_named)"
   ]
  },
  {
   "cell_type": "code",
   "execution_count": null,
   "id": "a14fabf3",
   "metadata": {},
   "outputs": [],
   "source": [
    "img_named = img_t.refine_names(..., 'channels', 'rows', 'columns')\n",
    "batch_named = batch_t.refine_names(..., 'channels', 'rows', 'columns')"
   ]
  },
  {
   "cell_type": "code",
   "execution_count": null,
   "id": "73e63891",
   "metadata": {},
   "outputs": [],
   "source": []
  },
  {
   "cell_type": "code",
   "execution_count": null,
   "id": "ceca052b",
   "metadata": {},
   "outputs": [],
   "source": []
  },
  {
   "cell_type": "code",
   "execution_count": null,
   "id": "76cf07d6",
   "metadata": {},
   "outputs": [],
   "source": []
  }
 ],
 "metadata": {
  "kernelspec": {
   "display_name": "Python 3 (ipykernel)",
   "language": "python",
   "name": "python3"
  },
  "language_info": {
   "codemirror_mode": {
    "name": "ipython",
    "version": 3
   },
   "file_extension": ".py",
   "mimetype": "text/x-python",
   "name": "python",
   "nbconvert_exporter": "python",
   "pygments_lexer": "ipython3",
   "version": "3.11.3"
  }
 },
 "nbformat": 4,
 "nbformat_minor": 5
}
